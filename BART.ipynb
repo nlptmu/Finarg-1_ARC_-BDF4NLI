{
 "cells": [
  {
   "cell_type": "markdown",
   "id": "fffba6ae-42c3-40f2-b47d-13ae18f6bc94",
   "metadata": {},
   "source": [
    "# Load Essential Libraries"
   ]
  },
  {
   "cell_type": "code",
   "execution_count": null,
   "id": "e703f201-a057-47a1-84fb-3a2e297cc947",
   "metadata": {},
   "outputs": [],
   "source": [
    "from sklearn.metrics import ConfusionMatrixDisplay\n",
    "from sklearn.metrics import confusion_matrix\n",
    "import matplotlib.pyplot as plt\n",
    "import pandas as pd\n",
    "import numpy as np\n",
    "from sklearn.model_selection import train_test_split\n",
    "from datasets import Dataset\n",
    "from transformers import BartTokenizer, AutoModelForSequenceClassification, AutoModel, TrainerCallback, TrainingArguments, EarlyStoppingCallback, Trainer, AdamW\n",
    "from sklearn import metrics\n",
    "from sklearn.metrics import accuracy_score, f1_score, classification_report\n",
    "from sklearn.utils.multiclass import unique_labels"
   ]
  },
  {
   "cell_type": "code",
   "execution_count": null,
   "id": "11aeed8f-1dba-4dff-8aec-466c394deec6",
   "metadata": {},
   "outputs": [],
   "source": [
    "import torch\n",
    "import torch.nn as nn\n",
    "import torch.nn.functional as F\n",
    "import torchvision\n",
    "import torchaudio\n",
    "print(torch.__version__)\n",
    "print(torchvision.__version__)\n",
    "print(torchaudio.__version__)"
   ]
  },
  {
   "cell_type": "code",
   "execution_count": null,
   "id": "5c695893-13c0-48e3-a146-52c004bf59b0",
   "metadata": {},
   "outputs": [],
   "source": [
    "device = torch.device(\"cuda\" if torch.cuda.is_available() else \"cpu\")\n",
    "print(f\"Using device: {device}\")"
   ]
  },
  {
   "cell_type": "markdown",
   "id": "b20b8270-8e1e-4109-89e7-e39d276bce9d",
   "metadata": {},
   "source": [
    "# BART"
   ]
  },
  {
   "cell_type": "markdown",
   "id": "360846ef-daa3-4843-b854-c7fa410f2a11",
   "metadata": {},
   "source": [
    "## Read data"
   ]
  },
  {
   "cell_type": "code",
   "execution_count": null,
   "id": "64de24e0-29d5-45e2-9085-2b47ec4cabad",
   "metadata": {},
   "outputs": [],
   "source": [
    "df = pd.read_csv(\"/mnt/nas/NTCIR17/FinARG/Integrate_dataset/ECC_relation.csv\")\n",
    "df"
   ]
  },
  {
   "cell_type": "code",
   "execution_count": null,
   "id": "0fc236e8-a884-4c2d-8b40-10901bab50f2",
   "metadata": {},
   "outputs": [],
   "source": [
    "texts = df[['text1','text2']]\n",
    "label = df[['label']]"
   ]
  },
  {
   "cell_type": "code",
   "execution_count": null,
   "id": "a52eb5ac-3e9e-46bb-82f4-6a1b97722465",
   "metadata": {},
   "outputs": [],
   "source": [
    "X_train, X_test, y_train, y_test = train_test_split(texts, label, test_size=0.2, stratify=label, random_state=42)"
   ]
  },
  {
   "cell_type": "code",
   "execution_count": null,
   "id": "ab9bb6a3-7ed1-4146-816b-98cb4c471fc2",
   "metadata": {},
   "outputs": [],
   "source": [
    "train_df = pd.concat((X_train, y_train), axis=1)\n",
    "train_df"
   ]
  },
  {
   "cell_type": "code",
   "execution_count": null,
   "id": "c2f46812-ed28-4abd-8b1c-2b826bc3aae8",
   "metadata": {},
   "outputs": [],
   "source": [
    "test_df = pd.concat((X_test, y_test), axis=1)\n",
    "test_df"
   ]
  },
  {
   "cell_type": "markdown",
   "id": "04d2d42b-91cf-4e7c-b791-ff59e5a52556",
   "metadata": {
    "tags": []
   },
   "source": [
    "## turn into DATASET"
   ]
  },
  {
   "cell_type": "code",
   "execution_count": null,
   "id": "9ae9ec97-7913-44c1-8d4f-70936db4a1af",
   "metadata": {},
   "outputs": [],
   "source": [
    "train_dataset = Dataset.from_pandas(train_df)\n",
    "test_dataset = Dataset.from_pandas(test_df)"
   ]
  },
  {
   "cell_type": "code",
   "execution_count": null,
   "id": "6f92d590-1fec-470b-8a53-aa94a146caca",
   "metadata": {},
   "outputs": [],
   "source": [
    "SEED = 602\n",
    "train_dataset = train_dataset.shuffle(SEED)"
   ]
  },
  {
   "cell_type": "code",
   "execution_count": null,
   "id": "1a3d1df4-5a3c-42e5-967d-1b08ca65d5e6",
   "metadata": {},
   "outputs": [],
   "source": [
    "train_dataset"
   ]
  },
  {
   "cell_type": "code",
   "execution_count": null,
   "id": "61ba9dbe-41ef-474e-a568-332c010e106d",
   "metadata": {},
   "outputs": [],
   "source": [
    "test_dataset"
   ]
  },
  {
   "cell_type": "markdown",
   "id": "552e3906-579c-40c1-a35c-6ab68ed55827",
   "metadata": {},
   "source": [
    "## TOKENIZE"
   ]
  },
  {
   "cell_type": "code",
   "execution_count": null,
   "id": "e0538f3d-0e71-4581-bcb6-7b789109310e",
   "metadata": {
    "scrolled": true,
    "tags": []
   },
   "outputs": [],
   "source": [
    "tokenizer = BartTokenizer.from_pretrained('facebook/bart-large')"
   ]
  },
  {
   "cell_type": "code",
   "execution_count": null,
   "id": "68ece52e-fa10-4fd9-a96b-db3773da8989",
   "metadata": {},
   "outputs": [],
   "source": [
    "MAX_LEN = 512\n",
    "\n",
    "def tokenize_function(examples):\n",
    "    text1 = examples[\"text1\"]\n",
    "    text2 = examples[\"text2\"]\n",
    "    inputs = tokenizer.encode_plus(text1, text2,\n",
    "                                   max_length=MAX_LEN, padding=\"max_length\",\n",
    "                                   truncation=True)\n",
    "                                   # truncation_strategy='only_first')\n",
    "    if \"label\" in examples:\n",
    "        inputs[\"labels\"] = examples[\"label\"]\n",
    "    return inputs"
   ]
  },
  {
   "cell_type": "code",
   "execution_count": null,
   "id": "217de335-d858-4d6b-b8da-5ece1923ea9a",
   "metadata": {
    "scrolled": true,
    "tags": []
   },
   "outputs": [],
   "source": [
    "tokenized_train_dataset = train_dataset.map(tokenize_function, remove_columns=[\"text1\", \"text2\", \"label\"])\n",
    "tokenized_test_dataset = test_dataset.map(tokenize_function, remove_columns=[\"text1\", \"text2\", \"label\"])"
   ]
  },
  {
   "cell_type": "code",
   "execution_count": null,
   "id": "03480858-d171-4de0-a1e5-c4461d3cb7fd",
   "metadata": {},
   "outputs": [],
   "source": [
    "tokenized_train_dataset"
   ]
  },
  {
   "cell_type": "code",
   "execution_count": null,
   "id": "c4ea0279-a8bf-4368-8cc5-5e817800caa0",
   "metadata": {},
   "outputs": [],
   "source": [
    "tokenized_test_dataset"
   ]
  },
  {
   "cell_type": "code",
   "execution_count": null,
   "id": "e4e447df-5dec-4cba-9779-f7ee40c25f4a",
   "metadata": {},
   "outputs": [],
   "source": [
    "# #Resampling\n",
    "# from imblearn.over_sampling import RandomOverSampler\n",
    "# from sklearn.datasets import make_classification\n",
    "# from sklearn.model_selection import train_test_split\n",
    "# from collections import Counter\n",
    "\n",
    "# tokenized_train_dataset_df = pd.DataFrame(tokenized_train_dataset)\n",
    "# tokenized_train_dataset_df = tokenized_train_dataset_df[['input_ids', 'attention_mask', 'labels']]\n",
    "# X = np.array(tokenized_train_dataset_df['input_ids'].to_list()), np.array(tokenized_train_dataset_df['attention_mask'].to_list())\n",
    "# X = np.concatenate(X, axis=1)\n",
    "# y = tokenized_train_dataset_df['labels']\n",
    "# # over\n",
    "# ros = RandomOverSampler(random_state=42)\n",
    "# X_resampled, y_resampled = ros.fit_resample(X, y)\n",
    "# print(\"Resampled dataset shape:\", Counter(y_resampled))\n",
    "\n",
    "# input_ids = np.stack(X_resampled[:,:512])\n",
    "# attention_mask = np.stack(X_resampled[:,512:])\n",
    "# X_train = pd.DataFrame({\n",
    "#     'input_ids': input_ids.tolist(),\n",
    "#     'attention_mask': attention_mask.tolist()\n",
    "# })\n",
    "# y_train = np.array(y_resampled)\n",
    "# y_train = pd.DataFrame(y_train, columns=['label'])\n",
    "# tokenized_train_dataset = Dataset.from_dict({\n",
    "#     \"input_ids\": X_train[\"input_ids\"].to_numpy(),\n",
    "#     \"attention_mask\": X_train[\"attention_mask\"].to_numpy(),\n",
    "#     \"labels\": y_train['label'].to_numpy()\n",
    "# })\n",
    "# print(f'tokenized_train_dataset:{tokenized_train_dataset}')\n",
    "# print(f'tokenized_test_dataset:{tokenized_test_dataset}')"
   ]
  },
  {
   "cell_type": "markdown",
   "id": "4ae5d17f-b268-4c4b-bcd4-b06509c90e06",
   "metadata": {
    "tags": []
   },
   "source": [
    "## DEFINE MODEL"
   ]
  },
  {
   "cell_type": "code",
   "execution_count": null,
   "id": "323cbf94-0177-41a6-9bc8-07590bd8303c",
   "metadata": {
    "scrolled": true,
    "tags": []
   },
   "outputs": [],
   "source": [
    "model = AutoModelForSequenceClassification.from_pretrained('facebook/bart-large-mnli')\n",
    "new_classification_head = nn.Sequential(\n",
    "    nn.Linear(in_features=1024, out_features=512),\n",
    "    nn.ReLU(),\n",
    "    nn.Dropout(p=0.3),\n",
    "    nn.Linear(in_features=512, out_features=3)\n",
    ")\n",
    "model.classification_head = new_classification_head\n",
    "model.to(device)"
   ]
  },
  {
   "cell_type": "markdown",
   "id": "366d4f42-c82b-4c64-8324-5ca15596bc4f",
   "metadata": {
    "tags": []
   },
   "source": [
    "## Training"
   ]
  },
  {
   "cell_type": "code",
   "execution_count": null,
   "id": "af0de459-500b-426e-843b-5eb72083ba30",
   "metadata": {
    "tags": []
   },
   "outputs": [],
   "source": [
    "def matrix_plt():\n",
    "    labels = [\"0\", \"1\", \"2\"]\n",
    "    cm = confusion_matrix(y_true, y_predict)\n",
    "    disp = ConfusionMatrixDisplay(confusion_matrix=cm, display_labels=labels)\n",
    "    disp.plot(cmap=plt.cm.Blues)\n",
    "    plt.savefig(\"matrix.png\")\n",
    "    plt.show()    \n",
    "    return\n",
    "\n",
    "def observing_loss():\n",
    "    train_history = pd.DataFrame(trainer.state.log_history)\n",
    "    train_loss = []\n",
    "    eval_loss = []\n",
    "    epoch = train_history['epoch'].unique().tolist()\n",
    "    \n",
    "    for e in epoch:\n",
    "        loss_train = train_history[train_history['epoch'] == e]['loss'].dropna().tolist()\n",
    "        loss_eval = train_history[train_history['epoch'] == e]['eval_loss'].dropna().tolist()\n",
    "        \n",
    "        # 添加缺失值填充\n",
    "        if len(loss_train) == 0:\n",
    "            loss_train = [np.nan]\n",
    "        if len(loss_eval) == 0:\n",
    "            loss_eval = [np.nan]\n",
    "        \n",
    "        train_loss.extend(loss_train)\n",
    "        eval_loss.extend(loss_eval)\n",
    "    \n",
    "    history = pd.DataFrame()\n",
    "    history['epoch'] = epoch\n",
    "    history['train_loss'] = train_loss\n",
    "    history['eval_loss'] = eval_loss\n",
    "    history = history.dropna(subset=['eval_loss'])\n",
    "    print(history)\n",
    "    plt.plot(history['epoch'], history['train_loss'], label='Train Loss')\n",
    "    plt.plot(history['epoch'], history['eval_loss'], label='Eval Loss')\n",
    "    plt.legend()\n",
    "    plt.title('Training and Evaluation Loss')\n",
    "    plt.xlabel('Epoch')\n",
    "    plt.ylabel('Loss')\n",
    "    plt.savefig(\"loss.png\")\n",
    "    plt.show()\n",
    "    return\n",
    "\n",
    "def compute_metrics(eval_preds):\n",
    "    logits, labels = eval_preds\n",
    "    predictions = logits[0].argmax(axis=-1)#for bart\n",
    "    \n",
    "    val_accuracy = accuracy_score(labels, predictions)\n",
    "    macro_f1_score = f1_score(labels, predictions, average='macro')\n",
    "    \n",
    "    return {'val_accuracy': val_accuracy, 'macro_f1_score': macro_f1_score}\n",
    "\n",
    "training_args = TrainingArguments(\n",
    "                                  output_dir=\"./modelpoint\",\n",
    "                                  save_steps=-1,\n",
    "                                  save_strategy='epoch',\n",
    "                                  num_train_epochs=30,\n",
    "                                  learning_rate=3e-8,\n",
    "                                  per_device_train_batch_size=8,\n",
    "                                  per_device_eval_batch_size=8,\n",
    "                                  evaluation_strategy='epoch',\n",
    "                                  eval_steps=-1,\n",
    "                                  load_best_model_at_end=True,\n",
    "                                  seed=616\n",
    "                                 )\n",
    "patience = 3\n",
    "early_stopping = EarlyStoppingCallback(early_stopping_patience=patience)"
   ]
  },
  {
   "cell_type": "markdown",
   "id": "a1430bac-e02c-42c6-83e9-c10097ed568d",
   "metadata": {},
   "source": [
    "class weight"
   ]
  },
  {
   "cell_type": "code",
   "execution_count": null,
   "id": "3705dc5b-e6b6-46eb-b608-3bb59fb1fccc",
   "metadata": {},
   "outputs": [],
   "source": [
    "# from torch import nn\n",
    "# from transformers import Trainer\n",
    "\n",
    "# class_counts = np.bincount(tokenized_train_dataset['labels'])\n",
    "# class_weights = 1.0 / class_counts\n",
    "# weights_tensor = torch.tensor(class_weights, device=device)\n",
    "# loss_fn = nn.CrossEntropyLoss(weight=weights_tensor)\n",
    "\n",
    "# class CustomTrainer(Trainer):\n",
    "#     def compute_loss(self, model, inputs, return_outputs=False):\n",
    "#         labels = inputs.get(\"labels\")\n",
    "#         # forward pass\n",
    "#         outputs = model(**inputs)\n",
    "#         logits = outputs.logits\n",
    "#         # compute custom loss (suppose one has 3 labels with different weights)\n",
    "#         loss_fn = nn.CrossEntropyLoss(weight=weights_tensor.float()) \n",
    "#         loss = loss_fn(logits.view(-1, self.model.config.num_labels), labels.view(-1))\n",
    "#         return (loss, outputs) if return_outputs else loss"
   ]
  },
  {
   "cell_type": "code",
   "execution_count": null,
   "id": "33f2f58b-6ca4-4d47-8788-03b63f75ae80",
   "metadata": {},
   "outputs": [],
   "source": [
    "# class_weights"
   ]
  },
  {
   "cell_type": "code",
   "execution_count": null,
   "id": "2d152ed8-cc69-4850-919f-b81256b89173",
   "metadata": {
    "scrolled": true,
    "tags": []
   },
   "outputs": [],
   "source": [
    "trainer = CustomTrainer(\n",
    "    model=model,\n",
    "    args=training_args,\n",
    "    train_dataset=tokenized_train_dataset,\n",
    "    eval_dataset=tokenized_test_dataset,\n",
    "    compute_metrics=compute_metrics,\n",
    "    callbacks=[early_stopping]\n",
    ") #if u don't use class weight, just replace CustomTrainer to Trainer. \n",
    "\n",
    "trainer.train()"
   ]
  },
  {
   "cell_type": "markdown",
   "id": "ed0f078f-3043-4c59-81c5-27849182c9f7",
   "metadata": {},
   "source": [
    "## Predict"
   ]
  },
  {
   "cell_type": "code",
   "execution_count": null,
   "id": "79179945-dba2-4179-97d3-b1cdcdfb3272",
   "metadata": {},
   "outputs": [],
   "source": [
    "predictions = trainer.predict(tokenized_test_dataset)"
   ]
  },
  {
   "cell_type": "code",
   "execution_count": null,
   "id": "072c1676-35e9-4c7b-a120-8d72478184c7",
   "metadata": {},
   "outputs": [],
   "source": [
    "y_true = predictions.label_ids\n",
    "y_predict = predictions.predictions[0].argmax(axis=-1) #for bart\n",
    "\n",
    "prods = predictions.predictions[0]\n",
    "\n",
    "print('Macro-average: {0}'.format(metrics.f1_score(y_true, y_predict, average = 'macro')))\n",
    "print('Micro-average: {0}'.format(metrics.f1_score(y_true, y_predict, average = 'micro')))\n",
    "print(classification_report(y_true, y_predict, digits=6))\n",
    "\n",
    "print(metrics.confusion_matrix(y_true, y_predict))"
   ]
  },
  {
   "cell_type": "code",
   "execution_count": null,
   "id": "df11c3b5-23be-47e3-a62d-923c9f05795f",
   "metadata": {},
   "outputs": [],
   "source": [
    "matrix_plt()"
   ]
  },
  {
   "cell_type": "code",
   "execution_count": null,
   "id": "f158d904-1de9-43a6-b72b-c79a2535599d",
   "metadata": {},
   "outputs": [],
   "source": [
    "answer = pd.DataFrame({'y_true': y_true, 'y_pred': y_predict})\n",
    "answer"
   ]
  },
  {
   "cell_type": "code",
   "execution_count": null,
   "id": "8d445819-2dbb-4601-8f57-daf411604fc2",
   "metadata": {},
   "outputs": [],
   "source": [
    "answer.to_csv(\"BartWithResam.csv\", index=False)"
   ]
  },
  {
   "cell_type": "code",
   "execution_count": null,
   "id": "680e3fa6-4d3f-4719-b8c4-0594bdc95e93",
   "metadata": {},
   "outputs": [],
   "source": [
    "observing_loss()"
   ]
  },
  {
   "cell_type": "markdown",
   "id": "069b6ae6-cc81-4cd8-8018-b50226febc07",
   "metadata": {},
   "source": [
    "save the probs"
   ]
  },
  {
   "cell_type": "code",
   "execution_count": null,
   "id": "5972d506-ca6b-49d2-8552-208de5a8ad17",
   "metadata": {},
   "outputs": [],
   "source": [
    "logits = predictions[0][0]"
   ]
  },
  {
   "cell_type": "code",
   "execution_count": null,
   "id": "8c5e19ca-7a31-4b50-8259-db8b7191b1bf",
   "metadata": {},
   "outputs": [],
   "source": [
    "probs = np.exp(logits) / np.exp(logits).sum(axis=1, keepdims=True)\n",
    "probs"
   ]
  },
  {
   "cell_type": "code",
   "execution_count": null,
   "id": "1db77b83-255d-4afa-8b61-83143ecbdbeb",
   "metadata": {},
   "outputs": [],
   "source": [
    "df_probs = pd.DataFrame(probs, columns=[0, 1, 2])\n",
    "df_probs"
   ]
  },
  {
   "cell_type": "code",
   "execution_count": null,
   "id": "f8c33f16-686d-448c-a5ea-16dffca7c9ab",
   "metadata": {},
   "outputs": [],
   "source": [
    "df_probs.to_csv('./Bart8_2/BartWithResam_probs.csv', index=0)"
   ]
  }
 ],
 "metadata": {
  "kernelspec": {
   "display_name": "Python [conda env:env-pt]",
   "language": "python",
   "name": "conda-env-env-pt-py"
  },
  "language_info": {
   "codemirror_mode": {
    "name": "ipython",
    "version": 3
   },
   "file_extension": ".py",
   "mimetype": "text/x-python",
   "name": "python",
   "nbconvert_exporter": "python",
   "pygments_lexer": "ipython3",
   "version": "3.9.12"
  }
 },
 "nbformat": 4,
 "nbformat_minor": 5
}
