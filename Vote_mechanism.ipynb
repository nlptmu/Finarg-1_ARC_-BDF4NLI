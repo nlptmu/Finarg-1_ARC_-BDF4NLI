{
 "cells": [
  {
   "cell_type": "markdown",
   "id": "dae2b12f-8456-49ef-ae8f-3b54234d739b",
   "metadata": {},
   "source": [
    "# Load Essential Libraries"
   ]
  },
  {
   "cell_type": "code",
   "execution_count": 30,
   "id": "a2dbe2fb-dd9f-41b0-8ccb-39c5b91143a6",
   "metadata": {},
   "outputs": [
    {
     "name": "stdout",
     "output_type": "stream",
     "text": [
      "1.12.1\n",
      "0.13.1\n",
      "0.12.1\n"
     ]
    }
   ],
   "source": [
    "from sklearn.metrics import classification_report\n",
    "from sklearn import metrics\n",
    "from sklearn.metrics import accuracy_score, roc_curve, auc\n",
    "from sklearn.utils.multiclass import unique_labels\n",
    "import pandas as pd\n",
    "import torch\n",
    "import torchvision\n",
    "import torchaudio\n",
    "import pickle\n",
    "import json\n",
    "print(torch.__version__)\n",
    "print(torchvision.__version__)\n",
    "print(torchaudio.__version__)"
   ]
  },
  {
   "cell_type": "code",
   "execution_count": 31,
   "id": "18c6513e-e947-42b8-a333-a220c9bf63df",
   "metadata": {},
   "outputs": [
    {
     "data": {
      "text/plain": [
       "array([[9.4555231e-05, 9.9989319e-01, 1.2210530e-05],\n",
       "       [1.4233534e-04, 9.9983799e-01, 1.9669387e-05],\n",
       "       [8.9063078e-02, 3.2450467e-02, 8.7848645e-01],\n",
       "       ...,\n",
       "       [1.7493308e-02, 1.3496364e-03, 9.8115706e-01],\n",
       "       [9.9993974e-01, 2.6163338e-05, 3.4060144e-05],\n",
       "       [3.3560437e-01, 6.6214317e-01, 2.2524309e-03]], dtype=float32)"
      ]
     },
     "execution_count": 31,
     "metadata": {},
     "output_type": "execute_result"
    }
   ],
   "source": [
    "input_file = '/mnt/nas/NTCIR17/FinARG/ECC_Argument Relation/ian/TEST/MODELS/bart_probs.pkl'\n",
    "with open(input_file, 'rb') as f:\n",
    "    bart_probs = pickle.load(f)\n",
    "\n",
    "bart_probs"
   ]
  },
  {
   "cell_type": "code",
   "execution_count": 32,
   "id": "8a97c84c-0098-4d02-abc9-4b971fef198d",
   "metadata": {},
   "outputs": [
    {
     "data": {
      "text/plain": [
       "array([[9.8293670e-04, 9.9823707e-01, 7.8000751e-04],\n",
       "       [3.8603824e-03, 9.9509704e-01, 1.0426191e-03],\n",
       "       [3.6445118e-03, 9.9426717e-01, 2.0882527e-03],\n",
       "       ...,\n",
       "       [6.0849190e-03, 6.4562015e-02, 9.2935306e-01],\n",
       "       [9.9952620e-01, 3.0919875e-04, 1.6464289e-04],\n",
       "       [1.2641157e-03, 9.9717045e-01, 1.5654155e-03]], dtype=float32)"
      ]
     },
     "execution_count": 32,
     "metadata": {},
     "output_type": "execute_result"
    }
   ],
   "source": [
    "input_file = '/mnt/nas/NTCIR17/FinARG/ECC_Argument Relation/ian/TEST/MODELS/deberta_probs.pkl'\n",
    "with open(input_file, 'rb') as f:\n",
    "    deberta_probs = pickle.load(f)\n",
    "\n",
    "deberta_probs"
   ]
  },
  {
   "cell_type": "code",
   "execution_count": 33,
   "id": "1111dd2e-987d-4988-baba-5aa9dfcc53d4",
   "metadata": {},
   "outputs": [
    {
     "data": {
      "text/plain": [
       "array([[1.04339860e-01, 8.95047903e-01, 6.12245000e-04],\n",
       "       [5.17025590e-01, 4.78043973e-01, 4.93049100e-03],\n",
       "       [9.99996781e-01, 6.87000000e-07, 2.56000000e-06],\n",
       "       ...,\n",
       "       [8.65728560e-02, 9.13373649e-01, 5.34000000e-05],\n",
       "       [5.17025590e-01, 4.78043973e-01, 4.93049100e-03],\n",
       "       [5.17025590e-01, 4.78043973e-01, 4.93049100e-03]])"
      ]
     },
     "execution_count": 33,
     "metadata": {},
     "output_type": "execute_result"
    }
   ],
   "source": [
    "llr_probs = pd.read_csv('/mnt/nas/NTCIR17/FinARG/ECC_Argument Relation/ian/TEST/MODELS/LLRDNN_result_Smote_for_ian_100final.csv').to_numpy()\n",
    "\n",
    "llr_probs"
   ]
  },
  {
   "cell_type": "markdown",
   "id": "4b4fd112-b879-43bd-83bc-87833ba3a747",
   "metadata": {},
   "source": [
    "# Find the Weights"
   ]
  },
  {
   "cell_type": "code",
   "execution_count": null,
   "id": "f978a113-d3e5-4a20-adfe-0abe7f7988d0",
   "metadata": {},
   "outputs": [],
   "source": [
    "import numpy as np\n",
    "from sklearn import metrics\n",
    "from sklearn.metrics import classification_report\n",
    "\n",
    "def find_best_weights(predictions_model1, predictions_model2, y_true):\n",
    "    best_f1_score = 0.0\n",
    "    best_weight_model1 = 0.0\n",
    "    best_weight_model2 = 0.0\n",
    "    best_weighted_predictions = None\n",
    "\n",
    "    for weight_model1 in np.arange(0, 1.1, 0.000001):\n",
    "        weight_model2 = 1.0 - weight_model1\n",
    "\n",
    "        weighted_predictions = vote(predictions_model1, predictions_model2, weight_model1, weight_model2)\n",
    "        weighted_predictions = weighted_predictions.detach().numpy().argmax(axis=-1)\n",
    "\n",
    "        f1_score = metrics.f1_score(y_true, weighted_predictions, average='macro')\n",
    "\n",
    "        if f1_score > best_f1_score:\n",
    "            best_f1_score = f1_score\n",
    "            best_weight_model1 = weight_model1\n",
    "            best_weight_model2 = weight_model2\n",
    "            best_weighted_predictions = weighted_predictions\n",
    "\n",
    "    return best_weighted_predictions, best_weight_model1, best_weight_model2, best_f1_score\n",
    "\n",
    "predictions_model1 = LLRDNN_ans  \n",
    "predictions_model2 = BART_ans  \n",
    "y_true = LLRDNN['labels']  \n",
    "\n",
    "# 寻找最佳权重\n",
    "best_weighted_predictions, best_weight_model1, best_weight_model2, best_f1_score = find_best_weights(predictions_model1, predictions_model2, y_true)\n",
    "\n",
    "print('Best weights: Model 1 - {0}, Model 2 - {1}'.format(best_weight_model1, best_weight_model2))\n",
    "print('Best Macro F1-score: {0}'.format(best_f1_score))\n",
    "\n",
    "y_predict = best_weighted_predictions\n",
    "\n",
    "print('Macro-average: {0}'.format(metrics.f1_score(y_true, y_predict, average = 'macro')))\n",
    "print('Micro-average: {0}'.format(metrics.f1_score(y_true, y_predict, average = 'micro')))\n",
    "print(classification_report(y_true, y_predict, digits=6))\n",
    "\n",
    "print(metrics.confusion_matrix(y_true, y_predict))"
   ]
  },
  {
   "cell_type": "markdown",
   "id": "cccdcde4-29e3-495b-95df-7387ea08004b",
   "metadata": {},
   "source": [
    "# LLR_DNN(RS) & BART(CL)​"
   ]
  },
  {
   "cell_type": "code",
   "execution_count": 34,
   "id": "c6abc42a-3cf8-4575-afe5-68331a62d56d",
   "metadata": {},
   "outputs": [],
   "source": [
    "def vote(predictions1, predictions2, weight1, weight2):\n",
    "    if not isinstance(predictions1, torch.Tensor):\n",
    "        predictions1 = torch.tensor(predictions1)\n",
    "    if not isinstance(predictions2, torch.Tensor):\n",
    "        predictions2 = torch.tensor(predictions2)\n",
    "    # 對機率分布加權\n",
    "    if predictions1.dim() == 2 and predictions2.dim() == 2:\n",
    "        weighted_predictions = weight1 * predictions1 + weight2 * predictions2\n",
    "\n",
    "    # 加權投票\n",
    "    elif predictions1.dim() == 1 and predictions2.dim() == 1:\n",
    "        num_classes = max(predictions1.max().item(), predictions2.max().item()) + 1\n",
    "        weighted_predictions = torch.zeros_like(predictions1)\n",
    "        for i in range(num_classes):\n",
    "            weighted_predictions[(predictions1 == i) & (predictions2 == i)] = i\n",
    "            weighted_predictions[(predictions1 == i) & (predictions2 != i)] = i if weight1 >= weight2 else i\n",
    "            weighted_predictions[(predictions1 != i) & (predictions2 == i)] = i if weight1 < weight2 else i\n",
    "\n",
    "    else:\n",
    "        raise ValueError(\"Invalid input shape. Predictions should be either 1D tensors or 2D tensors.\")\n",
    "\n",
    "    return weighted_predictions"
   ]
  },
  {
   "cell_type": "code",
   "execution_count": 35,
   "id": "a95210c2-d686-48a7-98f1-cf97e7b5a2d5",
   "metadata": {},
   "outputs": [
    {
     "name": "stdout",
     "output_type": "stream",
     "text": [
      "1    505\n",
      "0    181\n",
      "2      4\n",
      "Name: 0, dtype: int64\n",
      "=========================\n",
      "     0\n",
      "0    1\n",
      "1    1\n",
      "2    0\n",
      "3    0\n",
      "4    0\n",
      "..  ..\n",
      "685  0\n",
      "686  1\n",
      "687  2\n",
      "688  0\n",
      "689  1\n",
      "\n",
      "[690 rows x 1 columns]\n"
     ]
    }
   ],
   "source": [
    "weight_model1 = 0.44857\n",
    "weight_model2 = 0.55143\n",
    "\n",
    "predictions_model1 = llr_probs  \n",
    "predictions_model2 = bart_probs  \n",
    "\n",
    "weighted_predictions = vote(predictions_model1, predictions_model2, weight_model1, weight_model2)\n",
    "weighted_predictions = weighted_predictions.detach().numpy().argmax(axis=-1)\n",
    "\n",
    "y_predict = pd.DataFrame(weighted_predictions)\n",
    "label_counts = y_predict[0].value_counts()\n",
    "print(label_counts)\n",
    "print('=========================')\n",
    "print(y_predict)"
   ]
  },
  {
   "cell_type": "code",
   "execution_count": 20,
   "id": "5b256086-9a5c-48cf-b348-c2f58b4da55b",
   "metadata": {},
   "outputs": [
    {
     "name": "stdout",
     "output_type": "stream",
     "text": [
      "JSON File Predictions Completed.\n"
     ]
    }
   ],
   "source": [
    "# Read the JSON file\n",
    "with open('../ECC_Argument_Relation_Test.json') as file:\n",
    "    data = json.load(file)\n",
    "\n",
    "# Assuming you have the DataFrame named \"combined_df\" with 'soft_vote_preds' column\n",
    "for item in data:\n",
    "    test_id = item['TestID']\n",
    "    item['Prediction'] = int(y_predict.loc[test_id])\n",
    "\n",
    "# Save the updated JSON data to a new file\n",
    "output_file = 'ECC_Argument_Classification_Test_top 4 hard.json'\n",
    "with open(output_file, 'w') as file:\n",
    "    json.dump(data, file)\n",
    "\n",
    "print(\"JSON File Predictions Completed.\")"
   ]
  },
  {
   "cell_type": "code",
   "execution_count": 7,
   "id": "fe39a552-be77-40b8-bf75-f8d62b339553",
   "metadata": {},
   "outputs": [
    {
     "data": {
      "text/html": [
       "<div>\n",
       "<style scoped>\n",
       "    .dataframe tbody tr th:only-of-type {\n",
       "        vertical-align: middle;\n",
       "    }\n",
       "\n",
       "    .dataframe tbody tr th {\n",
       "        vertical-align: top;\n",
       "    }\n",
       "\n",
       "    .dataframe thead th {\n",
       "        text-align: right;\n",
       "    }\n",
       "</style>\n",
       "<table border=\"1\" class=\"dataframe\">\n",
       "  <thead>\n",
       "    <tr style=\"text-align: right;\">\n",
       "      <th></th>\n",
       "      <th>TestID</th>\n",
       "      <th>sentence1</th>\n",
       "      <th>sentence2</th>\n",
       "      <th>Prediction</th>\n",
       "    </tr>\n",
       "  </thead>\n",
       "  <tbody>\n",
       "    <tr>\n",
       "      <th>0</th>\n",
       "      <td>0</td>\n",
       "      <td>We now have 18 planes in service for Amazon, a...</td>\n",
       "      <td>So on that front, it's better control, better ...</td>\n",
       "      <td>1</td>\n",
       "    </tr>\n",
       "    <tr>\n",
       "      <th>1</th>\n",
       "      <td>1</td>\n",
       "      <td>So we are not afraid to bring in new capabilit...</td>\n",
       "      <td>And we'll continue to do that because I think ...</td>\n",
       "      <td>1</td>\n",
       "    </tr>\n",
       "    <tr>\n",
       "      <th>2</th>\n",
       "      <td>2</td>\n",
       "      <td>This is a young and rapidly growing business, ...</td>\n",
       "      <td>We're excited about the potential there, and r...</td>\n",
       "      <td>0</td>\n",
       "    </tr>\n",
       "    <tr>\n",
       "      <th>3</th>\n",
       "      <td>3</td>\n",
       "      <td>So we are always thinking at least of the tech...</td>\n",
       "      <td>Right, I would say actually we've also seen so...</td>\n",
       "      <td>0</td>\n",
       "    </tr>\n",
       "    <tr>\n",
       "      <th>4</th>\n",
       "      <td>4</td>\n",
       "      <td>And as we continue to improve the margin profi...</td>\n",
       "      <td>That's the guidance we gave.</td>\n",
       "      <td>0</td>\n",
       "    </tr>\n",
       "    <tr>\n",
       "      <th>...</th>\n",
       "      <td>...</td>\n",
       "      <td>...</td>\n",
       "      <td>...</td>\n",
       "      <td>...</td>\n",
       "    </tr>\n",
       "    <tr>\n",
       "      <th>685</th>\n",
       "      <td>685</td>\n",
       "      <td>But that, I think, is the primary focus for th...</td>\n",
       "      <td>Over the longer term, I think as that works, p...</td>\n",
       "      <td>0</td>\n",
       "    </tr>\n",
       "    <tr>\n",
       "      <th>686</th>\n",
       "      <td>686</td>\n",
       "      <td>It's worth noting that video ads take place on...</td>\n",
       "      <td>Video ads are really exciting.</td>\n",
       "      <td>1</td>\n",
       "    </tr>\n",
       "    <tr>\n",
       "      <th>687</th>\n",
       "      <td>687</td>\n",
       "      <td>There will be variability quarter to quarter.</td>\n",
       "      <td>But overall, when I look at what is it that we...</td>\n",
       "      <td>2</td>\n",
       "    </tr>\n",
       "    <tr>\n",
       "      <th>688</th>\n",
       "      <td>688</td>\n",
       "      <td>And so obviously at some point if those techno...</td>\n",
       "      <td>We price for the value that we're delivering, ...</td>\n",
       "      <td>0</td>\n",
       "    </tr>\n",
       "    <tr>\n",
       "      <th>689</th>\n",
       "      <td>689</td>\n",
       "      <td>But at the same time, one of the things that c...</td>\n",
       "      <td>And E5 value proposition across all three of t...</td>\n",
       "      <td>1</td>\n",
       "    </tr>\n",
       "  </tbody>\n",
       "</table>\n",
       "<p>690 rows × 4 columns</p>\n",
       "</div>"
      ],
      "text/plain": [
       "     TestID                                          sentence1  \\\n",
       "0         0  We now have 18 planes in service for Amazon, a...   \n",
       "1         1  So we are not afraid to bring in new capabilit...   \n",
       "2         2  This is a young and rapidly growing business, ...   \n",
       "3         3  So we are always thinking at least of the tech...   \n",
       "4         4  And as we continue to improve the margin profi...   \n",
       "..      ...                                                ...   \n",
       "685     685  But that, I think, is the primary focus for th...   \n",
       "686     686  It's worth noting that video ads take place on...   \n",
       "687     687      There will be variability quarter to quarter.   \n",
       "688     688  And so obviously at some point if those techno...   \n",
       "689     689  But at the same time, one of the things that c...   \n",
       "\n",
       "                                             sentence2  Prediction  \n",
       "0    So on that front, it's better control, better ...           1  \n",
       "1    And we'll continue to do that because I think ...           1  \n",
       "2    We're excited about the potential there, and r...           0  \n",
       "3    Right, I would say actually we've also seen so...           0  \n",
       "4                         That's the guidance we gave.           0  \n",
       "..                                                 ...         ...  \n",
       "685  Over the longer term, I think as that works, p...           0  \n",
       "686                     Video ads are really exciting.           1  \n",
       "687  But overall, when I look at what is it that we...           2  \n",
       "688  We price for the value that we're delivering, ...           0  \n",
       "689  And E5 value proposition across all three of t...           1  \n",
       "\n",
       "[690 rows x 4 columns]"
      ]
     },
     "execution_count": 7,
     "metadata": {},
     "output_type": "execute_result"
    }
   ],
   "source": [
    "df = pd.read_csv(\"../ECCAR.csv\")\n",
    "df['Prediction'] = y_predict\n",
    "df"
   ]
  },
  {
   "cell_type": "code",
   "execution_count": 8,
   "id": "1505fa11-c680-468d-9c3a-396b79eed7de",
   "metadata": {},
   "outputs": [
    {
     "name": "stdout",
     "output_type": "stream",
     "text": [
      "Now over the next period, especially in H1, we continue to see -- expect to see very good hybrid percentage and execution, which help to offset some of that.\n",
      "Heather, let me -- on gross margin, over a long-term period and intelligent cloud, given the expansive TAM and the growth opportunity we see, it will create gross margin pressure over long-term.\n"
     ]
    }
   ],
   "source": [
    "print(df['sentence1'][5])\n",
    "print(df['sentence2'][5])"
   ]
  },
  {
   "cell_type": "code",
   "execution_count": 9,
   "id": "99e54628-cc43-46e0-adee-52ddf86a8370",
   "metadata": {},
   "outputs": [
    {
     "name": "stdout",
     "output_type": "stream",
     "text": [
      "1    505\n",
      "0    181\n",
      "2      4\n",
      "Name: Prediction, dtype: int64\n"
     ]
    }
   ],
   "source": [
    "label_counts = df['Prediction'].value_counts()\n",
    "print(label_counts)"
   ]
  },
  {
   "cell_type": "code",
   "execution_count": 10,
   "id": "472d265c-357f-47f5-9f84-835867be9638",
   "metadata": {},
   "outputs": [],
   "source": [
    "df.to_json('./submission/ECCAR_1.json', orient='records')"
   ]
  },
  {
   "cell_type": "markdown",
   "id": "f0a1575e-6ec6-4d04-a914-2c0d483d3d8d",
   "metadata": {},
   "source": [
    "# LLR_DNN(RS) & BART(CL) & DEBERTA(CL)"
   ]
  },
  {
   "cell_type": "code",
   "execution_count": 21,
   "id": "46438006-9e52-41c1-882a-052d0a17906a",
   "metadata": {},
   "outputs": [],
   "source": [
    "def vote(predictions1, predictions2, predictions3, weight1, weight2, weight3):\n",
    "    if not isinstance(predictions1, torch.Tensor):\n",
    "        predictions1 = torch.tensor(predictions1)\n",
    "    if not isinstance(predictions2, torch.Tensor):\n",
    "        predictions2 = torch.tensor(predictions2)\n",
    "    if not isinstance(predictions3, torch.Tensor):\n",
    "        predictions3 = torch.tensor(predictions3)\n",
    "    \n",
    "    # 對機率分布加權\n",
    "    if predictions1.dim() == 2 and predictions2.dim() == 2 and predictions3.dim() == 2:\n",
    "        weighted_predictions = weight1 * predictions1 + weight2 * predictions2 + weight3 * predictions3\n",
    "    \n",
    "    # 加權投票\n",
    "    elif predictions1.dim() == 1 and predictions2.dim() == 1 and predictions3.dim() == 1:\n",
    "        num_classes = max(predictions1.max().item(), predictions2.max().item(), predictions3.max().item()) + 1\n",
    "        weighted_predictions = torch.zeros_like(predictions1)\n",
    "        for i in range(num_classes):\n",
    "            weighted_predictions[(predictions1 == i) & (predictions2 == i) & (predictions3 == i)] = i\n",
    "            weighted_predictions[(predictions1 == i) & (predictions2 != i) & (predictions3 != i)] = i if weight1 >= 0 and weight1 >= 0 else i\n",
    "            weighted_predictions[(predictions1 != i) & (predictions2 == i) & (predictions3 != i)] = i if weight2 >= 0 and weight2 >= 0 else i\n",
    "            weighted_predictions[(predictions1 != i) & (predictions2 != i) & (predictions3 == i)] = i if weight3 >= 0 and weight3 >= 0 else i\n",
    "            weighted_predictions[(predictions1 == i) & (predictions2 == i) & (predictions3 != i)] = i if weight1 + weight2 >= 0 else i\n",
    "            weighted_predictions[(predictions1 == i) & (predictions2 != i) & (predictions3 == i)] = i if weight1 + weight3 >= 0 else i\n",
    "            weighted_predictions[(predictions1 != i) & (predictions2 == i) & (predictions3 == i)] = i if weight2 + weight3 >= 0 else i\n",
    "    \n",
    "    else:\n",
    "        raise ValueError(\"Invalid input shape. Predictions should be either 1D tensors or 2D tensors.\")\n",
    "\n",
    "    return weighted_predictions"
   ]
  },
  {
   "cell_type": "code",
   "execution_count": 22,
   "id": "38264bb5-d6ef-4bea-abc4-0e0e7cb527c4",
   "metadata": {},
   "outputs": [
    {
     "name": "stdout",
     "output_type": "stream",
     "text": [
      "1    505\n",
      "0    180\n",
      "2      5\n",
      "Name: 0, dtype: int64\n",
      "=========================\n",
      "     0\n",
      "0    1\n",
      "1    1\n",
      "2    2\n",
      "3    0\n",
      "4    0\n",
      "..  ..\n",
      "685  0\n",
      "686  1\n",
      "687  2\n",
      "688  0\n",
      "689  1\n",
      "\n",
      "[690 rows x 1 columns]\n"
     ]
    }
   ],
   "source": [
    "weight_model1 = 0.4\n",
    "weight_model2 = 0.52\n",
    "weight_model3 = 0.08\n",
    "\n",
    "predictions_model1 = llr_probs  \n",
    "predictions_model2 = bart_probs \n",
    "predictions_model3 = deberta_probs\n",
    "\n",
    "weighted_predictions = vote(predictions_model1, predictions_model2, predictions_model3, weight_model1, weight_model2, weight_model3)\n",
    "weighted_predictions = weighted_predictions.detach().numpy().argmax(axis=-1)\n",
    "\n",
    "y_predict = pd.DataFrame(weighted_predictions)\n",
    "label_counts = y_predict[0].value_counts()\n",
    "print(label_counts)\n",
    "print('=========================')\n",
    "print(y_predict)"
   ]
  },
  {
   "cell_type": "code",
   "execution_count": 23,
   "id": "9bcebc9b-5a19-4567-9324-e2bc307e3955",
   "metadata": {},
   "outputs": [
    {
     "data": {
      "text/html": [
       "<div>\n",
       "<style scoped>\n",
       "    .dataframe tbody tr th:only-of-type {\n",
       "        vertical-align: middle;\n",
       "    }\n",
       "\n",
       "    .dataframe tbody tr th {\n",
       "        vertical-align: top;\n",
       "    }\n",
       "\n",
       "    .dataframe thead th {\n",
       "        text-align: right;\n",
       "    }\n",
       "</style>\n",
       "<table border=\"1\" class=\"dataframe\">\n",
       "  <thead>\n",
       "    <tr style=\"text-align: right;\">\n",
       "      <th></th>\n",
       "      <th>TestID</th>\n",
       "      <th>sentence1</th>\n",
       "      <th>sentence2</th>\n",
       "      <th>Prediction</th>\n",
       "    </tr>\n",
       "  </thead>\n",
       "  <tbody>\n",
       "    <tr>\n",
       "      <th>0</th>\n",
       "      <td>0</td>\n",
       "      <td>We now have 18 planes in service for Amazon, a...</td>\n",
       "      <td>So on that front, it's better control, better ...</td>\n",
       "      <td>1</td>\n",
       "    </tr>\n",
       "    <tr>\n",
       "      <th>1</th>\n",
       "      <td>1</td>\n",
       "      <td>So we are not afraid to bring in new capabilit...</td>\n",
       "      <td>And we'll continue to do that because I think ...</td>\n",
       "      <td>1</td>\n",
       "    </tr>\n",
       "    <tr>\n",
       "      <th>2</th>\n",
       "      <td>2</td>\n",
       "      <td>This is a young and rapidly growing business, ...</td>\n",
       "      <td>We're excited about the potential there, and r...</td>\n",
       "      <td>2</td>\n",
       "    </tr>\n",
       "    <tr>\n",
       "      <th>3</th>\n",
       "      <td>3</td>\n",
       "      <td>So we are always thinking at least of the tech...</td>\n",
       "      <td>Right, I would say actually we've also seen so...</td>\n",
       "      <td>0</td>\n",
       "    </tr>\n",
       "    <tr>\n",
       "      <th>4</th>\n",
       "      <td>4</td>\n",
       "      <td>And as we continue to improve the margin profi...</td>\n",
       "      <td>That's the guidance we gave.</td>\n",
       "      <td>0</td>\n",
       "    </tr>\n",
       "    <tr>\n",
       "      <th>...</th>\n",
       "      <td>...</td>\n",
       "      <td>...</td>\n",
       "      <td>...</td>\n",
       "      <td>...</td>\n",
       "    </tr>\n",
       "    <tr>\n",
       "      <th>685</th>\n",
       "      <td>685</td>\n",
       "      <td>But that, I think, is the primary focus for th...</td>\n",
       "      <td>Over the longer term, I think as that works, p...</td>\n",
       "      <td>0</td>\n",
       "    </tr>\n",
       "    <tr>\n",
       "      <th>686</th>\n",
       "      <td>686</td>\n",
       "      <td>It's worth noting that video ads take place on...</td>\n",
       "      <td>Video ads are really exciting.</td>\n",
       "      <td>1</td>\n",
       "    </tr>\n",
       "    <tr>\n",
       "      <th>687</th>\n",
       "      <td>687</td>\n",
       "      <td>There will be variability quarter to quarter.</td>\n",
       "      <td>But overall, when I look at what is it that we...</td>\n",
       "      <td>2</td>\n",
       "    </tr>\n",
       "    <tr>\n",
       "      <th>688</th>\n",
       "      <td>688</td>\n",
       "      <td>And so obviously at some point if those techno...</td>\n",
       "      <td>We price for the value that we're delivering, ...</td>\n",
       "      <td>0</td>\n",
       "    </tr>\n",
       "    <tr>\n",
       "      <th>689</th>\n",
       "      <td>689</td>\n",
       "      <td>But at the same time, one of the things that c...</td>\n",
       "      <td>And E5 value proposition across all three of t...</td>\n",
       "      <td>1</td>\n",
       "    </tr>\n",
       "  </tbody>\n",
       "</table>\n",
       "<p>690 rows × 4 columns</p>\n",
       "</div>"
      ],
      "text/plain": [
       "     TestID                                          sentence1  \\\n",
       "0         0  We now have 18 planes in service for Amazon, a...   \n",
       "1         1  So we are not afraid to bring in new capabilit...   \n",
       "2         2  This is a young and rapidly growing business, ...   \n",
       "3         3  So we are always thinking at least of the tech...   \n",
       "4         4  And as we continue to improve the margin profi...   \n",
       "..      ...                                                ...   \n",
       "685     685  But that, I think, is the primary focus for th...   \n",
       "686     686  It's worth noting that video ads take place on...   \n",
       "687     687      There will be variability quarter to quarter.   \n",
       "688     688  And so obviously at some point if those techno...   \n",
       "689     689  But at the same time, one of the things that c...   \n",
       "\n",
       "                                             sentence2  Prediction  \n",
       "0    So on that front, it's better control, better ...           1  \n",
       "1    And we'll continue to do that because I think ...           1  \n",
       "2    We're excited about the potential there, and r...           2  \n",
       "3    Right, I would say actually we've also seen so...           0  \n",
       "4                         That's the guidance we gave.           0  \n",
       "..                                                 ...         ...  \n",
       "685  Over the longer term, I think as that works, p...           0  \n",
       "686                     Video ads are really exciting.           1  \n",
       "687  But overall, when I look at what is it that we...           2  \n",
       "688  We price for the value that we're delivering, ...           0  \n",
       "689  And E5 value proposition across all three of t...           1  \n",
       "\n",
       "[690 rows x 4 columns]"
      ]
     },
     "execution_count": 23,
     "metadata": {},
     "output_type": "execute_result"
    }
   ],
   "source": [
    "df = pd.read_csv(\"../ECCAR.csv\")\n",
    "df['Prediction'] = y_predict\n",
    "df"
   ]
  },
  {
   "cell_type": "code",
   "execution_count": 24,
   "id": "f9f22167-354a-4591-a452-ff5991305f94",
   "metadata": {},
   "outputs": [
    {
     "name": "stdout",
     "output_type": "stream",
     "text": [
      "JSON File Predictions Completed.\n"
     ]
    }
   ],
   "source": [
    "# Read the JSON file\n",
    "with open('../ECC_Argument_Relation_Test.json') as file:\n",
    "    data = json.load(file)\n",
    "\n",
    "# Assuming you have the DataFrame named \"combined_df\" with 'soft_vote_preds' column\n",
    "for item in data:\n",
    "    test_id = item['TestID']\n",
    "    item['Prediction'] = int(y_predict.loc[test_id])\n",
    "\n",
    "# Save the updated JSON data to a new file\n",
    "output_file = 'ECC_Argument_Classification_Test_top 4 hard.json'\n",
    "with open(output_file, 'w') as file:\n",
    "    json.dump(data, file)\n",
    "\n",
    "print(\"JSON File Predictions Completed.\")"
   ]
  },
  {
   "cell_type": "code",
   "execution_count": 25,
   "id": "9101c5a2-deb1-40dd-94c8-417c51f10eec",
   "metadata": {},
   "outputs": [
    {
     "name": "stdout",
     "output_type": "stream",
     "text": [
      "1    505\n",
      "0    180\n",
      "2      5\n",
      "Name: Prediction, dtype: int64\n"
     ]
    }
   ],
   "source": [
    "label_counts = df['Prediction'].value_counts()\n",
    "print(label_counts)"
   ]
  },
  {
   "cell_type": "code",
   "execution_count": 15,
   "id": "75f005d6-87ff-4409-b706-ad68bce23082",
   "metadata": {},
   "outputs": [],
   "source": [
    "df.to_json('./submission/ECCAR_2.json', orient='records')"
   ]
  },
  {
   "cell_type": "markdown",
   "id": "f798ba4d-45af-405a-b417-9c82ec985916",
   "metadata": {},
   "source": [
    "# BART(CL)"
   ]
  },
  {
   "cell_type": "code",
   "execution_count": 26,
   "id": "fc546143-947d-4227-a60f-86ad03307f70",
   "metadata": {},
   "outputs": [
    {
     "name": "stdout",
     "output_type": "stream",
     "text": [
      "1    506\n",
      "0    177\n",
      "2      7\n",
      "Name: 0, dtype: int64\n",
      "=========================\n",
      "     0\n",
      "0    1\n",
      "1    1\n",
      "2    2\n",
      "3    0\n",
      "4    0\n",
      "..  ..\n",
      "685  0\n",
      "686  1\n",
      "687  2\n",
      "688  0\n",
      "689  1\n",
      "\n",
      "[690 rows x 1 columns]\n"
     ]
    }
   ],
   "source": [
    "y_predict = pd.DataFrame(bart_probs.argmax(axis=-1))\n",
    "label_counts = y_predict[0].value_counts()\n",
    "print(label_counts)\n",
    "print('=========================')\n",
    "print(y_predict)"
   ]
  },
  {
   "cell_type": "code",
   "execution_count": 27,
   "id": "fec6b474-d2fd-42fa-ae31-59b3d8186937",
   "metadata": {},
   "outputs": [
    {
     "data": {
      "text/html": [
       "<div>\n",
       "<style scoped>\n",
       "    .dataframe tbody tr th:only-of-type {\n",
       "        vertical-align: middle;\n",
       "    }\n",
       "\n",
       "    .dataframe tbody tr th {\n",
       "        vertical-align: top;\n",
       "    }\n",
       "\n",
       "    .dataframe thead th {\n",
       "        text-align: right;\n",
       "    }\n",
       "</style>\n",
       "<table border=\"1\" class=\"dataframe\">\n",
       "  <thead>\n",
       "    <tr style=\"text-align: right;\">\n",
       "      <th></th>\n",
       "      <th>TestID</th>\n",
       "      <th>sentence1</th>\n",
       "      <th>sentence2</th>\n",
       "      <th>Prediction</th>\n",
       "    </tr>\n",
       "  </thead>\n",
       "  <tbody>\n",
       "    <tr>\n",
       "      <th>0</th>\n",
       "      <td>0</td>\n",
       "      <td>We now have 18 planes in service for Amazon, a...</td>\n",
       "      <td>So on that front, it's better control, better ...</td>\n",
       "      <td>1</td>\n",
       "    </tr>\n",
       "    <tr>\n",
       "      <th>1</th>\n",
       "      <td>1</td>\n",
       "      <td>So we are not afraid to bring in new capabilit...</td>\n",
       "      <td>And we'll continue to do that because I think ...</td>\n",
       "      <td>1</td>\n",
       "    </tr>\n",
       "    <tr>\n",
       "      <th>2</th>\n",
       "      <td>2</td>\n",
       "      <td>This is a young and rapidly growing business, ...</td>\n",
       "      <td>We're excited about the potential there, and r...</td>\n",
       "      <td>2</td>\n",
       "    </tr>\n",
       "    <tr>\n",
       "      <th>3</th>\n",
       "      <td>3</td>\n",
       "      <td>So we are always thinking at least of the tech...</td>\n",
       "      <td>Right, I would say actually we've also seen so...</td>\n",
       "      <td>0</td>\n",
       "    </tr>\n",
       "    <tr>\n",
       "      <th>4</th>\n",
       "      <td>4</td>\n",
       "      <td>And as we continue to improve the margin profi...</td>\n",
       "      <td>That's the guidance we gave.</td>\n",
       "      <td>0</td>\n",
       "    </tr>\n",
       "    <tr>\n",
       "      <th>...</th>\n",
       "      <td>...</td>\n",
       "      <td>...</td>\n",
       "      <td>...</td>\n",
       "      <td>...</td>\n",
       "    </tr>\n",
       "    <tr>\n",
       "      <th>685</th>\n",
       "      <td>685</td>\n",
       "      <td>But that, I think, is the primary focus for th...</td>\n",
       "      <td>Over the longer term, I think as that works, p...</td>\n",
       "      <td>0</td>\n",
       "    </tr>\n",
       "    <tr>\n",
       "      <th>686</th>\n",
       "      <td>686</td>\n",
       "      <td>It's worth noting that video ads take place on...</td>\n",
       "      <td>Video ads are really exciting.</td>\n",
       "      <td>1</td>\n",
       "    </tr>\n",
       "    <tr>\n",
       "      <th>687</th>\n",
       "      <td>687</td>\n",
       "      <td>There will be variability quarter to quarter.</td>\n",
       "      <td>But overall, when I look at what is it that we...</td>\n",
       "      <td>2</td>\n",
       "    </tr>\n",
       "    <tr>\n",
       "      <th>688</th>\n",
       "      <td>688</td>\n",
       "      <td>And so obviously at some point if those techno...</td>\n",
       "      <td>We price for the value that we're delivering, ...</td>\n",
       "      <td>0</td>\n",
       "    </tr>\n",
       "    <tr>\n",
       "      <th>689</th>\n",
       "      <td>689</td>\n",
       "      <td>But at the same time, one of the things that c...</td>\n",
       "      <td>And E5 value proposition across all three of t...</td>\n",
       "      <td>1</td>\n",
       "    </tr>\n",
       "  </tbody>\n",
       "</table>\n",
       "<p>690 rows × 4 columns</p>\n",
       "</div>"
      ],
      "text/plain": [
       "     TestID                                          sentence1  \\\n",
       "0         0  We now have 18 planes in service for Amazon, a...   \n",
       "1         1  So we are not afraid to bring in new capabilit...   \n",
       "2         2  This is a young and rapidly growing business, ...   \n",
       "3         3  So we are always thinking at least of the tech...   \n",
       "4         4  And as we continue to improve the margin profi...   \n",
       "..      ...                                                ...   \n",
       "685     685  But that, I think, is the primary focus for th...   \n",
       "686     686  It's worth noting that video ads take place on...   \n",
       "687     687      There will be variability quarter to quarter.   \n",
       "688     688  And so obviously at some point if those techno...   \n",
       "689     689  But at the same time, one of the things that c...   \n",
       "\n",
       "                                             sentence2  Prediction  \n",
       "0    So on that front, it's better control, better ...           1  \n",
       "1    And we'll continue to do that because I think ...           1  \n",
       "2    We're excited about the potential there, and r...           2  \n",
       "3    Right, I would say actually we've also seen so...           0  \n",
       "4                         That's the guidance we gave.           0  \n",
       "..                                                 ...         ...  \n",
       "685  Over the longer term, I think as that works, p...           0  \n",
       "686                     Video ads are really exciting.           1  \n",
       "687  But overall, when I look at what is it that we...           2  \n",
       "688  We price for the value that we're delivering, ...           0  \n",
       "689  And E5 value proposition across all three of t...           1  \n",
       "\n",
       "[690 rows x 4 columns]"
      ]
     },
     "execution_count": 27,
     "metadata": {},
     "output_type": "execute_result"
    }
   ],
   "source": [
    "df = pd.read_csv(\"../ECCAR.csv\")\n",
    "df['Prediction'] = y_predict\n",
    "df"
   ]
  },
  {
   "cell_type": "code",
   "execution_count": 28,
   "id": "e5a35ed3-0dc8-40a6-8619-adae604dff4a",
   "metadata": {},
   "outputs": [
    {
     "name": "stdout",
     "output_type": "stream",
     "text": [
      "1    506\n",
      "0    177\n",
      "2      7\n",
      "Name: Prediction, dtype: int64\n"
     ]
    }
   ],
   "source": [
    "label_counts = df['Prediction'].value_counts()\n",
    "print(label_counts)"
   ]
  },
  {
   "cell_type": "code",
   "execution_count": 29,
   "id": "81ebf542-b9e8-46ca-a4a2-979b2ae6c62a",
   "metadata": {},
   "outputs": [
    {
     "name": "stdout",
     "output_type": "stream",
     "text": [
      "JSON File Predictions Completed.\n"
     ]
    }
   ],
   "source": [
    "# Read the JSON file\n",
    "with open('../ECC_Argument_Relation_Test.json') as file:\n",
    "    data = json.load(file)\n",
    "\n",
    "# Assuming you have the DataFrame named \"combined_df\" with 'soft_vote_preds' column\n",
    "for item in data:\n",
    "    test_id = item['TestID']\n",
    "    item['Prediction'] = int(y_predict.loc[test_id])\n",
    "\n",
    "# Save the updated JSON data to a new file\n",
    "output_file = 'ECC_Argument_Classification_Test_top 4 hard.json'\n",
    "with open(output_file, 'w') as file:\n",
    "    json.dump(data, file)\n",
    "\n",
    "print(\"JSON File Predictions Completed.\")"
   ]
  },
  {
   "cell_type": "code",
   "execution_count": 9,
   "id": "110d0ab4-ffe8-46cf-b890-da594d36d552",
   "metadata": {},
   "outputs": [],
   "source": [
    "df.to_json('./submission/ECCAR_3.json', orient='records')"
   ]
  },
  {
   "cell_type": "code",
   "execution_count": 36,
   "id": "2346fca0-f1cc-4936-a9ba-d0866d42c556",
   "metadata": {},
   "outputs": [],
   "source": [
    "import pandas as pd\n",
    "ECCAR_1 = pd.read_json('./TMUNLP_ECCAR_1.json')\n",
    "ECCAR_2 = pd.read_json('./TMUNLP_ECCAR_2.json')\n",
    "ECCAR_3 = pd.read_json('./TMUNLP_ECCAR_3.json')\n"
   ]
  },
  {
   "cell_type": "code",
   "execution_count": 39,
   "id": "3a3265c1-05f9-4aa4-85bb-acbe500ddb9a",
   "metadata": {},
   "outputs": [
    {
     "name": "stdout",
     "output_type": "stream",
     "text": [
      "1    505\n",
      "0    180\n",
      "2      5\n",
      "Name: Prediction, dtype: int64\n"
     ]
    }
   ],
   "source": [
    "label_counts = ECCAR_1['Prediction'].value_counts()\n",
    "print(label_counts)"
   ]
  },
  {
   "cell_type": "code",
   "execution_count": 40,
   "id": "ede53ffa-7078-4f0b-9283-3a8ef2b6ac99",
   "metadata": {},
   "outputs": [
    {
     "name": "stdout",
     "output_type": "stream",
     "text": [
      "1    505\n",
      "0    181\n",
      "2      4\n",
      "Name: Prediction, dtype: int64\n"
     ]
    }
   ],
   "source": [
    "label_counts = ECCAR_2['Prediction'].value_counts()\n",
    "print(label_counts)"
   ]
  },
  {
   "cell_type": "code",
   "execution_count": 41,
   "id": "e0f1edc5-d76e-42e0-ba39-9f6df1725e6d",
   "metadata": {},
   "outputs": [
    {
     "name": "stdout",
     "output_type": "stream",
     "text": [
      "1    506\n",
      "0    177\n",
      "2      7\n",
      "Name: Prediction, dtype: int64\n"
     ]
    }
   ],
   "source": [
    "label_counts = ECCAR_3['Prediction'].value_counts()\n",
    "print(label_counts)"
   ]
  },
  {
   "cell_type": "code",
   "execution_count": null,
   "id": "eb968f19-d613-4286-89c0-45042a39d79a",
   "metadata": {},
   "outputs": [],
   "source": []
  }
 ],
 "metadata": {
  "kernelspec": {
   "display_name": "Python 3 (ipykernel)",
   "language": "python",
   "name": "python3"
  },
  "language_info": {
   "codemirror_mode": {
    "name": "ipython",
    "version": 3
   },
   "file_extension": ".py",
   "mimetype": "text/x-python",
   "name": "python",
   "nbconvert_exporter": "python",
   "pygments_lexer": "ipython3",
   "version": "3.9.12"
  }
 },
 "nbformat": 4,
 "nbformat_minor": 5
}
